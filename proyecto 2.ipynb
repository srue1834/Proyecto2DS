{
 "cells": [
  {
   "cell_type": "markdown",
   "id": "25b0088e",
   "metadata": {
    "papermill": {
     "duration": 0.01385,
     "end_time": "2022-06-08T11:25:18.992139",
     "exception": false,
     "start_time": "2022-06-08T11:25:18.978289",
     "status": "completed"
    },
    "tags": []
   },
   "source": [
    "# Model training"
   ]
  },
  {
   "cell_type": "code",
   "execution_count": 1,
   "id": "435bdd6a",
   "metadata": {
    "execution": {
     "iopub.execute_input": "2022-06-08T11:25:19.011496Z",
     "iopub.status.busy": "2022-06-08T11:25:19.010796Z",
     "iopub.status.idle": "2022-06-08T11:25:19.027937Z",
     "shell.execute_reply": "2022-06-08T11:25:19.026952Z"
    },
    "papermill": {
     "duration": 0.029113,
     "end_time": "2022-06-08T11:25:19.030291",
     "exception": false,
     "start_time": "2022-06-08T11:25:19.001178",
     "status": "completed"
    },
    "tags": []
   },
   "outputs": [],
   "source": [
    "import pandas as pd\n",
    "import numpy as np\n",
    "import matplotlib.pyplot as plt\n",
    "%matplotlib inline"
   ]
  },
  {
   "cell_type": "code",
   "execution_count": 2,
   "id": "f066985f",
   "metadata": {
    "execution": {
     "iopub.execute_input": "2022-06-08T11:25:19.047721Z",
     "iopub.status.busy": "2022-06-08T11:25:19.047403Z",
     "iopub.status.idle": "2022-06-08T11:25:19.392822Z",
     "shell.execute_reply": "2022-06-08T11:25:19.391771Z"
    },
    "papermill": {
     "duration": 0.357012,
     "end_time": "2022-06-08T11:25:19.395220",
     "exception": false,
     "start_time": "2022-06-08T11:25:19.038208",
     "status": "completed"
    },
    "tags": []
   },
   "outputs": [],
   "source": [
    "df_train = pd.read_csv('./feedback-prize-effectiveness/train.csv')"
   ]
  },
  {
   "cell_type": "code",
   "execution_count": 3,
   "id": "9c5d5816",
   "metadata": {
    "execution": {
     "iopub.execute_input": "2022-06-08T11:25:19.428494Z",
     "iopub.status.busy": "2022-06-08T11:25:19.427597Z",
     "iopub.status.idle": "2022-06-08T11:25:19.433226Z",
     "shell.execute_reply": "2022-06-08T11:25:19.432154Z"
    },
    "papermill": {
     "duration": 0.016936,
     "end_time": "2022-06-08T11:25:19.435498",
     "exception": false,
     "start_time": "2022-06-08T11:25:19.418562",
     "status": "completed"
    },
    "tags": []
   },
   "outputs": [],
   "source": [
    "seed = 33\n",
    "batch_size = 16\n",
    "MAX_LEN = 256"
   ]
  },
  {
   "cell_type": "code",
   "execution_count": 4,
   "id": "69d9b2f5",
   "metadata": {
    "execution": {
     "iopub.execute_input": "2022-06-08T11:25:19.469086Z",
     "iopub.status.busy": "2022-06-08T11:25:19.468588Z",
     "iopub.status.idle": "2022-06-08T11:25:20.543380Z",
     "shell.execute_reply": "2022-06-08T11:25:20.542358Z"
    },
    "papermill": {
     "duration": 1.086511,
     "end_time": "2022-06-08T11:25:20.546228",
     "exception": false,
     "start_time": "2022-06-08T11:25:19.459717",
     "status": "completed"
    },
    "tags": []
   },
   "outputs": [],
   "source": [
    "from sklearn.model_selection import train_test_split\n",
    "\n",
    "def data_split(df_train, n_samples, test_size, val_size):\n",
    "    if n_samples != 0:\n",
    "        df_train = df_train.sample(n=n_samples, random_state = seed)\n",
    "    \n",
    "    \n",
    "    # Label encoding\n",
    "    new_label = {\"discourse_effectiveness\": {\"Ineffective\": 0, \"Adequate\": 1, \"Effective\": 2}}\n",
    "    df_train = df_train.replace(new_label)\n",
    "    df_train = df_train.rename(columns = {\"discourse_effectiveness\": \"label\"})\n",
    "\n",
    "    X = df_train['input']\n",
    "    y = df_train['label']\n",
    "    X_train, X_test, y_train, y_test = train_test_split(X,y, test_size = test_size, random_state = seed)\n",
    "    \n",
    "    X_train, X_val, y_train, y_val = train_test_split(X_train,y_train, test_size = val_size, random_state = seed)\n",
    "    \n",
    "    return X_train, y_train, X_val, y_val, X_test, y_test"
   ]
  },
  {
   "cell_type": "code",
   "execution_count": 5,
   "id": "996d3956",
   "metadata": {
    "execution": {
     "iopub.execute_input": "2022-06-08T11:25:20.564183Z",
     "iopub.status.busy": "2022-06-08T11:25:20.563798Z",
     "iopub.status.idle": "2022-06-08T11:25:29.173988Z",
     "shell.execute_reply": "2022-06-08T11:25:29.172651Z"
    },
    "papermill": {
     "duration": 8.622013,
     "end_time": "2022-06-08T11:25:29.176700",
     "exception": false,
     "start_time": "2022-06-08T11:25:20.554687",
     "status": "completed"
    },
    "tags": []
   },
   "outputs": [],
   "source": [
    "import tensorflow as tf\n",
    "from transformers import TFBertModel\n",
    "import transformers"
   ]
  },
  {
   "cell_type": "code",
   "execution_count": 6,
   "id": "9fb44744",
   "metadata": {},
   "outputs": [
    {
     "data": {
      "text/html": [
       "<div>\n",
       "<style scoped>\n",
       "    .dataframe tbody tr th:only-of-type {\n",
       "        vertical-align: middle;\n",
       "    }\n",
       "\n",
       "    .dataframe tbody tr th {\n",
       "        vertical-align: top;\n",
       "    }\n",
       "\n",
       "    .dataframe thead th {\n",
       "        text-align: right;\n",
       "    }\n",
       "</style>\n",
       "<table border=\"1\" class=\"dataframe\">\n",
       "  <thead>\n",
       "    <tr style=\"text-align: right;\">\n",
       "      <th></th>\n",
       "      <th>discourse_id</th>\n",
       "      <th>essay_id</th>\n",
       "      <th>discourse_text</th>\n",
       "      <th>discourse_type</th>\n",
       "      <th>discourse_effectiveness</th>\n",
       "    </tr>\n",
       "  </thead>\n",
       "  <tbody>\n",
       "    <tr>\n",
       "      <th>0</th>\n",
       "      <td>0013cc385424</td>\n",
       "      <td>007ACE74B050</td>\n",
       "      <td>Hi, i'm Isaac, i'm going to be writing about h...</td>\n",
       "      <td>Lead</td>\n",
       "      <td>Adequate</td>\n",
       "    </tr>\n",
       "    <tr>\n",
       "      <th>1</th>\n",
       "      <td>9704a709b505</td>\n",
       "      <td>007ACE74B050</td>\n",
       "      <td>On my perspective, I think that the face is a ...</td>\n",
       "      <td>Position</td>\n",
       "      <td>Adequate</td>\n",
       "    </tr>\n",
       "    <tr>\n",
       "      <th>2</th>\n",
       "      <td>c22adee811b6</td>\n",
       "      <td>007ACE74B050</td>\n",
       "      <td>I think that the face is a natural landform be...</td>\n",
       "      <td>Claim</td>\n",
       "      <td>Adequate</td>\n",
       "    </tr>\n",
       "    <tr>\n",
       "      <th>3</th>\n",
       "      <td>a10d361e54e4</td>\n",
       "      <td>007ACE74B050</td>\n",
       "      <td>If life was on Mars, we would know by now. The...</td>\n",
       "      <td>Evidence</td>\n",
       "      <td>Adequate</td>\n",
       "    </tr>\n",
       "    <tr>\n",
       "      <th>4</th>\n",
       "      <td>db3e453ec4e2</td>\n",
       "      <td>007ACE74B050</td>\n",
       "      <td>People thought that the face was formed by ali...</td>\n",
       "      <td>Counterclaim</td>\n",
       "      <td>Adequate</td>\n",
       "    </tr>\n",
       "    <tr>\n",
       "      <th>...</th>\n",
       "      <td>...</td>\n",
       "      <td>...</td>\n",
       "      <td>...</td>\n",
       "      <td>...</td>\n",
       "      <td>...</td>\n",
       "    </tr>\n",
       "    <tr>\n",
       "      <th>36760</th>\n",
       "      <td>9f63b687e76a</td>\n",
       "      <td>FFA381E58FC6</td>\n",
       "      <td>For many people they don't like only asking on...</td>\n",
       "      <td>Claim</td>\n",
       "      <td>Adequate</td>\n",
       "    </tr>\n",
       "    <tr>\n",
       "      <th>36761</th>\n",
       "      <td>9d5bd7d86212</td>\n",
       "      <td>FFA381E58FC6</td>\n",
       "      <td>also people have different views and opinions ...</td>\n",
       "      <td>Claim</td>\n",
       "      <td>Adequate</td>\n",
       "    </tr>\n",
       "    <tr>\n",
       "      <th>36762</th>\n",
       "      <td>f1b78becd573</td>\n",
       "      <td>FFA381E58FC6</td>\n",
       "      <td>Advice is something that can impact a persons ...</td>\n",
       "      <td>Position</td>\n",
       "      <td>Adequate</td>\n",
       "    </tr>\n",
       "    <tr>\n",
       "      <th>36763</th>\n",
       "      <td>cc184624ca8e</td>\n",
       "      <td>FFA381E58FC6</td>\n",
       "      <td>someone can use everything that many people sa...</td>\n",
       "      <td>Evidence</td>\n",
       "      <td>Ineffective</td>\n",
       "    </tr>\n",
       "    <tr>\n",
       "      <th>36764</th>\n",
       "      <td>c8a973681feb</td>\n",
       "      <td>FFA381E58FC6</td>\n",
       "      <td>In conclusion asking for an opinion can be ben...</td>\n",
       "      <td>Concluding Statement</td>\n",
       "      <td>Ineffective</td>\n",
       "    </tr>\n",
       "  </tbody>\n",
       "</table>\n",
       "<p>36765 rows × 5 columns</p>\n",
       "</div>"
      ],
      "text/plain": [
       "       discourse_id      essay_id  \\\n",
       "0      0013cc385424  007ACE74B050   \n",
       "1      9704a709b505  007ACE74B050   \n",
       "2      c22adee811b6  007ACE74B050   \n",
       "3      a10d361e54e4  007ACE74B050   \n",
       "4      db3e453ec4e2  007ACE74B050   \n",
       "...             ...           ...   \n",
       "36760  9f63b687e76a  FFA381E58FC6   \n",
       "36761  9d5bd7d86212  FFA381E58FC6   \n",
       "36762  f1b78becd573  FFA381E58FC6   \n",
       "36763  cc184624ca8e  FFA381E58FC6   \n",
       "36764  c8a973681feb  FFA381E58FC6   \n",
       "\n",
       "                                          discourse_text  \\\n",
       "0      Hi, i'm Isaac, i'm going to be writing about h...   \n",
       "1      On my perspective, I think that the face is a ...   \n",
       "2      I think that the face is a natural landform be...   \n",
       "3      If life was on Mars, we would know by now. The...   \n",
       "4      People thought that the face was formed by ali...   \n",
       "...                                                  ...   \n",
       "36760  For many people they don't like only asking on...   \n",
       "36761  also people have different views and opinions ...   \n",
       "36762  Advice is something that can impact a persons ...   \n",
       "36763  someone can use everything that many people sa...   \n",
       "36764  In conclusion asking for an opinion can be ben...   \n",
       "\n",
       "             discourse_type discourse_effectiveness  \n",
       "0                      Lead                Adequate  \n",
       "1                  Position                Adequate  \n",
       "2                     Claim                Adequate  \n",
       "3                  Evidence                Adequate  \n",
       "4              Counterclaim                Adequate  \n",
       "...                     ...                     ...  \n",
       "36760                 Claim                Adequate  \n",
       "36761                 Claim                Adequate  \n",
       "36762              Position                Adequate  \n",
       "36763              Evidence             Ineffective  \n",
       "36764  Concluding Statement             Ineffective  \n",
       "\n",
       "[36765 rows x 5 columns]"
      ]
     },
     "execution_count": 6,
     "metadata": {},
     "output_type": "execute_result"
    }
   ],
   "source": [
    "df_train"
   ]
  },
  {
   "cell_type": "code",
   "execution_count": 7,
   "id": "14de2b07",
   "metadata": {
    "execution": {
     "iopub.execute_input": "2022-06-08T11:25:29.193337Z",
     "iopub.status.busy": "2022-06-08T11:25:29.192780Z",
     "iopub.status.idle": "2022-06-08T11:25:29.199828Z",
     "shell.execute_reply": "2022-06-08T11:25:29.198745Z"
    },
    "papermill": {
     "duration": 0.017451,
     "end_time": "2022-06-08T11:25:29.201965",
     "exception": false,
     "start_time": "2022-06-08T11:25:29.184514",
     "status": "completed"
    },
    "tags": []
   },
   "outputs": [],
   "source": [
    "#prepara los datos para que los pueda procesar BERT\n",
    "#en tokenizer cada dato solo tiene el largo de 256 y se le indica que ponga un token especial por cada modelo\n",
    "def bert_encode(texts, tokenizer, max_len=MAX_LEN):\n",
    "    input_ids = []\n",
    "    token_type_ids = []\n",
    "    attention_mask = []\n",
    "    \n",
    "    for text in texts:\n",
    "        token = tokenizer(text, max_length=max_len, truncation=True, padding='max_length',\n",
    "                         add_special_tokens=True)\n",
    "        input_ids.append(token['input_ids']) #id del token\n",
    "        token_type_ids.append(token['token_type_ids']) # lista de tipos de token para cada modelo\n",
    "        attention_mask.append(token['attention_mask']) #indices que dicen que modelo tiene que atender que token\n",
    "    \n",
    "    return np.array(input_ids), np.array(token_type_ids), np.array(attention_mask)"
   ]
  },
  {
   "cell_type": "code",
   "execution_count": 8,
   "id": "7d331417",
   "metadata": {
    "execution": {
     "iopub.execute_input": "2022-06-08T11:25:29.217834Z",
     "iopub.status.busy": "2022-06-08T11:25:29.217516Z",
     "iopub.status.idle": "2022-06-08T11:25:29.320957Z",
     "shell.execute_reply": "2022-06-08T11:25:29.319687Z"
    },
    "papermill": {
     "duration": 0.115089,
     "end_time": "2022-06-08T11:25:29.324541",
     "exception": false,
     "start_time": "2022-06-08T11:25:29.209452",
     "status": "completed"
    },
    "tags": []
   },
   "outputs": [
    {
     "data": {
      "text/plain": [
       "('.\\\\tokenizer_config.json',\n",
       " '.\\\\special_tokens_map.json',\n",
       " '.\\\\vocab.txt',\n",
       " '.\\\\added_tokens.json')"
      ]
     },
     "execution_count": 8,
     "metadata": {},
     "output_type": "execute_result"
    }
   ],
   "source": [
    "tokenizer = transformers.BertTokenizer.from_pretrained('bert-base-cased')\n",
    "tokenizer.save_pretrained('.')"
   ]
  },
  {
   "cell_type": "code",
   "execution_count": 9,
   "id": "8707cd2b",
   "metadata": {
    "execution": {
     "iopub.execute_input": "2022-06-08T11:25:29.356881Z",
     "iopub.status.busy": "2022-06-08T11:25:29.356545Z",
     "iopub.status.idle": "2022-06-08T11:25:29.362438Z",
     "shell.execute_reply": "2022-06-08T11:25:29.361441Z"
    },
    "papermill": {
     "duration": 0.017415,
     "end_time": "2022-06-08T11:25:29.364714",
     "exception": false,
     "start_time": "2022-06-08T11:25:29.347299",
     "status": "completed"
    },
    "tags": []
   },
   "outputs": [
    {
     "data": {
      "text/plain": [
       "'[SEP]'"
      ]
     },
     "execution_count": 9,
     "metadata": {},
     "output_type": "execute_result"
    }
   ],
   "source": [
    "#token que indica la separacion de 2 oraciones por 1 input\n",
    "sep = tokenizer.sep_token\n",
    "sep"
   ]
  },
  {
   "cell_type": "code",
   "execution_count": 10,
   "id": "f6d93c41",
   "metadata": {
    "execution": {
     "iopub.execute_input": "2022-06-08T11:25:29.382913Z",
     "iopub.status.busy": "2022-06-08T11:25:29.381973Z",
     "iopub.status.idle": "2022-06-08T11:25:29.408468Z",
     "shell.execute_reply": "2022-06-08T11:25:29.407499Z"
    },
    "papermill": {
     "duration": 0.038508,
     "end_time": "2022-06-08T11:25:29.411062",
     "exception": false,
     "start_time": "2022-06-08T11:25:29.372554",
     "status": "completed"
    },
    "tags": []
   },
   "outputs": [
    {
     "data": {
      "text/plain": [
       "0        [SEP]Hi, i'm Isaac, i'm going to be writing ab...\n",
       "1        [SEP]On my perspective, I think that the face ...\n",
       "2        [SEP]I think that the face is a natural landfo...\n",
       "3        [SEP]If life was on Mars, we would know by now...\n",
       "4        [SEP]People thought that the face was formed b...\n",
       "                               ...                        \n",
       "36760    [SEP]For many people they don't like only aski...\n",
       "36761    [SEP]also people have different views and opin...\n",
       "36762    [SEP]Advice is something that can impact a per...\n",
       "36763    [SEP]someone can use everything that many peop...\n",
       "36764    [SEP]In conclusion asking for an opinion can b...\n",
       "Name: input, Length: 36765, dtype: object"
      ]
     },
     "execution_count": 10,
     "metadata": {},
     "output_type": "execute_result"
    }
   ],
   "source": [
    "df_train['input'] = sep +df_train.discourse_text\n",
    "df_train['input']"
   ]
  },
  {
   "cell_type": "code",
   "execution_count": 11,
   "id": "65b8ae9e",
   "metadata": {
    "execution": {
     "iopub.execute_input": "2022-06-08T11:25:29.428603Z",
     "iopub.status.busy": "2022-06-08T11:25:29.428299Z",
     "iopub.status.idle": "2022-06-08T11:25:29.492666Z",
     "shell.execute_reply": "2022-06-08T11:25:29.490035Z"
    },
    "papermill": {
     "duration": 0.077931,
     "end_time": "2022-06-08T11:25:29.497084",
     "exception": false,
     "start_time": "2022-06-08T11:25:29.419153",
     "status": "completed"
    },
    "tags": []
   },
   "outputs": [],
   "source": [
    "n_samples = 0 #no es 0 es todo el dataset\n",
    "test_size = 0.10\n",
    "val_size = 0.10\n",
    "\n",
    "X_train, y_train, X_val, y_val, X_test, y_test = data_split(df_train, n_samples=n_samples, test_size = test_size, val_size = val_size)"
   ]
  },
  {
   "cell_type": "code",
   "execution_count": 12,
   "id": "a0aa07eb",
   "metadata": {},
   "outputs": [
    {
     "data": {
      "text/plain": [
       "21095    [SEP]If both are possible options, a tradition...\n",
       "2012     [SEP]Throughtout the article, \"The Challenge o...\n",
       "28317    [SEP]Online learning would allow students to l...\n",
       "35861    [SEP]With each person one asks for advice, the...\n",
       "6502     [SEP]The previous quote is stating that scient...\n",
       "                               ...                        \n",
       "3790     [SEP]I'm just not sure that it is a good idea ...\n",
       "25952    [SEP]when the air is polluted, and more people...\n",
       "26013                 [SEP]we should do Electoral College \n",
       "9533     [SEP]Extracurricular activities should be requ...\n",
       "11812    [SEP]If a summer project was student based, a ...\n",
       "Name: input, Length: 29779, dtype: object"
      ]
     },
     "execution_count": 12,
     "metadata": {},
     "output_type": "execute_result"
    }
   ],
   "source": [
    "X_train"
   ]
  },
  {
   "cell_type": "code",
   "execution_count": 13,
   "id": "8f5d000f",
   "metadata": {},
   "outputs": [
    {
     "data": {
      "text/plain": [
       "21095    2\n",
       "2012     2\n",
       "28317    2\n",
       "35861    2\n",
       "6502     0\n",
       "        ..\n",
       "3790     1\n",
       "25952    2\n",
       "26013    1\n",
       "9533     1\n",
       "11812    2\n",
       "Name: label, Length: 29779, dtype: int64"
      ]
     },
     "execution_count": 13,
     "metadata": {},
     "output_type": "execute_result"
    }
   ],
   "source": [
    "y_train"
   ]
  },
  {
   "cell_type": "code",
   "execution_count": 14,
   "id": "68a60840",
   "metadata": {
    "execution": {
     "iopub.execute_input": "2022-06-08T11:25:29.533657Z",
     "iopub.status.busy": "2022-06-08T11:25:29.532098Z",
     "iopub.status.idle": "2022-06-08T11:26:29.823366Z",
     "shell.execute_reply": "2022-06-08T11:26:29.822083Z"
    },
    "papermill": {
     "duration": 60.314655,
     "end_time": "2022-06-08T11:26:29.825847",
     "exception": false,
     "start_time": "2022-06-08T11:25:29.511192",
     "status": "completed"
    },
    "tags": []
   },
   "outputs": [],
   "source": [
    "X_train = bert_encode(X_train.astype(str), tokenizer)\n",
    "X_val = bert_encode(X_val.astype(str), tokenizer)\n",
    "X_test = bert_encode(X_test.astype(str), tokenizer)\n",
    "\n",
    "y_train = y_train.values\n",
    "y_val = y_val.values\n",
    "y_test = y_test.values"
   ]
  },
  {
   "cell_type": "code",
   "execution_count": 15,
   "id": "8abaf4a4",
   "metadata": {},
   "outputs": [
    {
     "data": {
      "text/plain": [
       "array([2, 2, 2, ..., 1, 1, 2], dtype=int64)"
      ]
     },
     "execution_count": 15,
     "metadata": {},
     "output_type": "execute_result"
    }
   ],
   "source": [
    "y_train"
   ]
  },
  {
   "cell_type": "code",
   "execution_count": 16,
   "id": "5841e72f",
   "metadata": {
    "execution": {
     "iopub.execute_input": "2022-06-08T11:26:29.843523Z",
     "iopub.status.busy": "2022-06-08T11:26:29.843128Z",
     "iopub.status.idle": "2022-06-08T11:26:29.849194Z",
     "shell.execute_reply": "2022-06-08T11:26:29.848199Z"
    },
    "papermill": {
     "duration": 0.018263,
     "end_time": "2022-06-08T11:26:29.852577",
     "exception": false,
     "start_time": "2022-06-08T11:26:29.834314",
     "status": "completed"
    },
    "tags": []
   },
   "outputs": [
    {
     "name": "stdout",
     "output_type": "stream",
     "text": [
      "y_train: (29779,), y_val: (3309,), y_test: (3677,)\n"
     ]
    }
   ],
   "source": [
    "print(f\"y_train: {y_train.shape}, y_val: {y_val.shape}, y_test: {y_test.shape}\")"
   ]
  },
  {
   "cell_type": "code",
   "execution_count": 17,
   "id": "53ddbb0f",
   "metadata": {
    "execution": {
     "iopub.execute_input": "2022-06-08T11:26:29.872828Z",
     "iopub.status.busy": "2022-06-08T11:26:29.871830Z",
     "iopub.status.idle": "2022-06-08T11:26:36.130051Z",
     "shell.execute_reply": "2022-06-08T11:26:36.128891Z"
    },
    "papermill": {
     "duration": 6.272954,
     "end_time": "2022-06-08T11:26:36.134773",
     "exception": false,
     "start_time": "2022-06-08T11:26:29.861819",
     "status": "completed"
    },
    "tags": []
   },
   "outputs": [],
   "source": [
    "AUTO = tf.data.experimental.AUTOTUNE #busca un balance automatico para la load del CPU\n",
    "\n",
    "#creamos los datasets\n",
    "train_dataset = (\n",
    "    tf.data.Dataset\n",
    "    .from_tensor_slices((X_train, y_train))#crea el dataset de las listas\n",
    "    .repeat()#no repita el dataset\n",
    "    .shuffle(1234)#como revuelve el dataset\n",
    "    .batch(batch_size)#de que tamano\n",
    "    .prefetch(AUTO)\n",
    ")\n",
    "\n",
    "valid_dataset = (\n",
    "    tf.data.Dataset\n",
    "    .from_tensor_slices((X_val, y_val))\n",
    "    .batch(batch_size)\n",
    "    .cache()\n",
    "    .prefetch(AUTO)\n",
    ")\n",
    "test_dataset = (\n",
    "    tf.data.Dataset\n",
    "    .from_tensor_slices((X_test, y_test))\n",
    "    .batch(batch_size)\n",
    "    .cache()\n",
    "    .prefetch(AUTO)\n",
    ")"
   ]
  },
  {
   "cell_type": "code",
   "execution_count": 18,
   "id": "a5727c82",
   "metadata": {
    "execution": {
     "iopub.execute_input": "2022-06-08T11:26:36.175281Z",
     "iopub.status.busy": "2022-06-08T11:26:36.174883Z",
     "iopub.status.idle": "2022-06-08T11:26:50.580870Z",
     "shell.execute_reply": "2022-06-08T11:26:50.578277Z"
    },
    "papermill": {
     "duration": 14.417733,
     "end_time": "2022-06-08T11:26:50.583318",
     "exception": false,
     "start_time": "2022-06-08T11:26:36.165585",
     "status": "completed"
    },
    "tags": []
   },
   "outputs": [
    {
     "name": "stderr",
     "output_type": "stream",
     "text": [
      "Some layers from the model checkpoint at bert-base-cased were not used when initializing TFBertModel: ['mlm___cls', 'nsp___cls']\n",
      "- This IS expected if you are initializing TFBertModel from the checkpoint of a model trained on another task or with another architecture (e.g. initializing a BertForSequenceClassification model from a BertForPreTraining model).\n",
      "- This IS NOT expected if you are initializing TFBertModel from the checkpoint of a model that you expect to be exactly identical (initializing a BertForSequenceClassification model from a BertForSequenceClassification model).\n",
      "All the layers of TFBertModel were initialized from the model checkpoint at bert-base-cased.\n",
      "If your task is similar to the task the model of the checkpoint was trained on, you can already use TFBertModel for predictions without further training.\n"
     ]
    }
   ],
   "source": [
    "from tensorflow.keras.layers import Dense, Input, Dropout\n",
    "from tensorflow.keras.optimizers import Adam\n",
    "from tensorflow.keras.models import Model\n",
    "\n",
    "lr = 0.00001\n",
    "\n",
    "input_ids = Input(shape=(MAX_LEN,), dtype=tf.int32, name=\"input_ids\")#instancia de tensor\n",
    "token_type_ids = Input(shape=(MAX_LEN,), dtype=tf.int32, name=\"token_type_ids\")\n",
    "attention_mask = Input(shape=(MAX_LEN,), dtype=tf.int32, name=\"attention_mask\")\n",
    "\n",
    "bert_model = (TFBertModel.from_pretrained('bert-base-cased'))\n",
    "sequence_output = bert_model(input_ids, token_type_ids=token_type_ids, attention_mask=attention_mask)[0]\n",
    "\n"
   ]
  },
  {
   "cell_type": "code",
   "execution_count": 19,
   "id": "2f1e9006",
   "metadata": {},
   "outputs": [
    {
     "data": {
      "text/plain": [
       "<KerasTensor: shape=(None, 256, 768) dtype=float32 (created by layer 'tf_bert_model')>"
      ]
     },
     "execution_count": 19,
     "metadata": {},
     "output_type": "execute_result"
    }
   ],
   "source": [
    "sequence_output"
   ]
  },
  {
   "cell_type": "code",
   "execution_count": 20,
   "id": "de23f14e",
   "metadata": {},
   "outputs": [
    {
     "name": "stderr",
     "output_type": "stream",
     "text": [
      "c:\\Users\\Oscar\\anaconda3\\lib\\site-packages\\keras\\optimizers\\optimizer_v2\\adam.py:114: UserWarning: The `lr` argument is deprecated, use `learning_rate` instead.\n",
      "  super().__init__(name, **kwargs)\n"
     ]
    }
   ],
   "source": [
    "lr = 0.00001\n",
    "\n",
    "clf_output = sequence_output[:, 0, :]#cambiamos la shape del output\n",
    "clf_output = Dropout(0.3)(clf_output)#asignamos dropout\n",
    "clf_output = Dense(16, activation='softmax')(clf_output)#capa de neuronas\n",
    "out = Dense(3, activation='softmax')(clf_output)#capa de salida\n",
    "    \n",
    "model = Model(inputs=[input_ids, token_type_ids, attention_mask], outputs=out)#agrupamos las capas\n",
    "model.compile(Adam(lr=lr), loss='sparse_categorical_crossentropy', metrics=['accuracy'])#compilamos el modelo"
   ]
  },
  {
   "cell_type": "code",
   "execution_count": 21,
   "id": "355ab4bc",
   "metadata": {
    "execution": {
     "iopub.execute_input": "2022-06-08T11:26:50.647224Z",
     "iopub.status.busy": "2022-06-08T11:26:50.646769Z",
     "iopub.status.idle": "2022-06-08T12:02:31.308671Z",
     "shell.execute_reply": "2022-06-08T12:02:31.307583Z"
    },
    "papermill": {
     "duration": 2140.674211,
     "end_time": "2022-06-08T12:02:31.311240",
     "exception": false,
     "start_time": "2022-06-08T11:26:50.637029",
     "status": "completed"
    },
    "tags": []
   },
   "outputs": [
    {
     "name": "stdout",
     "output_type": "stream",
     "text": [
      "Epoch 1/15\n",
      "WARNING:tensorflow:Gradients do not exist for variables ['tf_bert_model/bert/pooler/dense/kernel:0', 'tf_bert_model/bert/pooler/dense/bias:0'] when minimizing the loss. If you're using `model.compile()`, did you forget to provide a `loss` argument?\n",
      "WARNING:tensorflow:Gradients do not exist for variables ['tf_bert_model/bert/pooler/dense/kernel:0', 'tf_bert_model/bert/pooler/dense/bias:0'] when minimizing the loss. If you're using `model.compile()`, did you forget to provide a `loss` argument?\n",
      "200/200 [==============================] - 4107s 21s/step - loss: 0.9780 - accuracy: 0.5909 - val_loss: 0.9474 - val_accuracy: 0.6259\n",
      "Epoch 2/15\n",
      "200/200 [==============================] - 1801s 9s/step - loss: 0.9333 - accuracy: 0.6278 - val_loss: 0.9336 - val_accuracy: 0.6380\n",
      "Epoch 3/15\n",
      "200/200 [==============================] - 1799s 9s/step - loss: 0.9273 - accuracy: 0.6469 - val_loss: 0.9238 - val_accuracy: 0.6510\n",
      "Epoch 4/15\n",
      "200/200 [==============================] - 1799s 9s/step - loss: 0.9210 - accuracy: 0.6469 - val_loss: 0.9214 - val_accuracy: 0.6383\n",
      "Epoch 5/15\n",
      "200/200 [==============================] - 1794s 9s/step - loss: 0.9150 - accuracy: 0.6559 - val_loss: 0.9183 - val_accuracy: 0.6497\n",
      "Epoch 6/15\n",
      "200/200 [==============================] - 1797s 9s/step - loss: 0.9179 - accuracy: 0.6406 - val_loss: 0.9271 - val_accuracy: 0.6189\n",
      "Epoch 7/15\n",
      "200/200 [==============================] - 1798s 9s/step - loss: 0.9156 - accuracy: 0.6416 - val_loss: 0.9154 - val_accuracy: 0.6461\n",
      "Epoch 8/15\n",
      "200/200 [==============================] - 1796s 9s/step - loss: 0.9091 - accuracy: 0.6453 - val_loss: 0.9150 - val_accuracy: 0.6455\n",
      "Epoch 9/15\n",
      "200/200 [==============================] - 3013s 15s/step - loss: 0.9065 - accuracy: 0.6603 - val_loss: 0.9161 - val_accuracy: 0.6467\n",
      "Epoch 10/15\n",
      "200/200 [==============================] - 3897s 20s/step - loss: 0.9073 - accuracy: 0.6478 - val_loss: 0.9135 - val_accuracy: 0.6443\n",
      "Epoch 11/15\n",
      "200/200 [==============================] - 3789s 19s/step - loss: 0.9003 - accuracy: 0.6656 - val_loss: 0.9097 - val_accuracy: 0.6446\n",
      "Epoch 12/15\n",
      "200/200 [==============================] - 2615s 13s/step - loss: 0.8969 - accuracy: 0.6687 - val_loss: 0.9099 - val_accuracy: 0.6500\n",
      "Epoch 13/15\n",
      "200/200 [==============================] - 3326s 17s/step - loss: 0.8935 - accuracy: 0.6762 - val_loss: 0.9114 - val_accuracy: 0.6374\n",
      "Epoch 14/15\n",
      "200/200 [==============================] - 3488s 17s/step - loss: 0.8930 - accuracy: 0.6625 - val_loss: 0.9055 - val_accuracy: 0.6500\n",
      "Epoch 15/15\n",
      "200/200 [==============================] - 3654s 18s/step - loss: 0.8908 - accuracy: 0.6709 - val_loss: 0.9067 - val_accuracy: 0.6440\n"
     ]
    }
   ],
   "source": [
    "epochs = 15\n",
    "\n",
    "history = model.fit(\n",
    "    train_dataset,\n",
    "    steps_per_epoch=200,\n",
    "    validation_data=valid_dataset,\n",
    "    epochs=epochs\n",
    ")"
   ]
  },
  {
   "cell_type": "code",
   "execution_count": 22,
   "id": "b2385d20",
   "metadata": {
    "execution": {
     "iopub.execute_input": "2022-06-08T12:02:31.965774Z",
     "iopub.status.busy": "2022-06-08T12:02:31.965144Z",
     "iopub.status.idle": "2022-06-08T12:03:53.937582Z",
     "shell.execute_reply": "2022-06-08T12:03:53.936365Z"
    },
    "papermill": {
     "duration": 82.584568,
     "end_time": "2022-06-08T12:03:54.171293",
     "exception": false,
     "start_time": "2022-06-08T12:02:31.586725",
     "status": "completed"
    },
    "tags": []
   },
   "outputs": [
    {
     "name": "stdout",
     "output_type": "stream",
     "text": [
      "230/230 [==============================] - 529s 2s/step - loss: 0.8986 - accuracy: 0.6647\n"
     ]
    },
    {
     "data": {
      "text/plain": [
       "[0.8986072540283203, 0.664672315120697]"
      ]
     },
     "execution_count": 22,
     "metadata": {},
     "output_type": "execute_result"
    }
   ],
   "source": [
    "model.evaluate(test_dataset)"
   ]
  },
  {
   "cell_type": "code",
   "execution_count": 23,
   "id": "7a9f7d47",
   "metadata": {
    "execution": {
     "iopub.execute_input": "2022-06-08T12:03:54.636348Z",
     "iopub.status.busy": "2022-06-08T12:03:54.635928Z",
     "iopub.status.idle": "2022-06-08T12:03:55.194441Z",
     "shell.execute_reply": "2022-06-08T12:03:55.193339Z"
    },
    "papermill": {
     "duration": 0.798939,
     "end_time": "2022-06-08T12:03:55.196882",
     "exception": false,
     "start_time": "2022-06-08T12:03:54.397943",
     "status": "completed"
    },
    "tags": []
   },
   "outputs": [
    {
     "data": {
      "image/png": "[encoded data removed]",
      "text/plain": [
       "<Figure size 1080x864 with 1 Axes>"
      ]
     },
     "metadata": {
      "needs_background": "light"
     },
     "output_type": "display_data"
    },
    {
     "data": {
      "image/png": "[encoded data removed]",
      "text/plain": [
       "<Figure size 1080x864 with 1 Axes>"
      ]
     },
     "metadata": {
      "needs_background": "light"
     },
     "output_type": "display_data"
    }
   ],
   "source": [
    "figsize = (15, 12)\n",
    "\n",
    "plt.figure(figsize=figsize)\n",
    "plt.plot(history.history['accuracy'])\n",
    "plt.plot(history.history['val_accuracy'])\n",
    "plt.title('model accuracy')\n",
    "plt.ylabel('accuracy')\n",
    "plt.xlabel('epoch')\n",
    "plt.legend(['train', 'test'], loc='upper left')\n",
    "plt.show()\n",
    "plt.figure(figsize=figsize)\n",
    "plt.plot(history.history['loss'])\n",
    "plt.plot(history.history['val_loss'])\n",
    "plt.title('model loss')\n",
    "plt.ylabel('loss')\n",
    "plt.xlabel('epoch')\n",
    "plt.legend(['train', 'test'], loc='upper left')\n",
    "plt.show()"
   ]
  },
  {
   "cell_type": "code",
   "execution_count": 24,
   "id": "be8caa19",
   "metadata": {
    "execution": {
     "iopub.execute_input": "2022-06-08T12:03:56.129251Z",
     "iopub.status.busy": "2022-06-08T12:03:56.128721Z",
     "iopub.status.idle": "2022-06-08T12:03:56.155898Z",
     "shell.execute_reply": "2022-06-08T12:03:56.154796Z"
    },
    "papermill": {
     "duration": 0.264737,
     "end_time": "2022-06-08T12:03:56.157979",
     "exception": false,
     "start_time": "2022-06-08T12:03:55.893242",
     "status": "completed"
    },
    "tags": []
   },
   "outputs": [
    {
     "data": {
      "text/html": [
       "<div>\n",
       "<style scoped>\n",
       "    .dataframe tbody tr th:only-of-type {\n",
       "        vertical-align: middle;\n",
       "    }\n",
       "\n",
       "    .dataframe tbody tr th {\n",
       "        vertical-align: top;\n",
       "    }\n",
       "\n",
       "    .dataframe thead th {\n",
       "        text-align: right;\n",
       "    }\n",
       "</style>\n",
       "<table border=\"1\" class=\"dataframe\">\n",
       "  <thead>\n",
       "    <tr style=\"text-align: right;\">\n",
       "      <th></th>\n",
       "      <th>discourse_id</th>\n",
       "      <th>essay_id</th>\n",
       "      <th>discourse_text</th>\n",
       "      <th>discourse_type</th>\n",
       "    </tr>\n",
       "  </thead>\n",
       "  <tbody>\n",
       "    <tr>\n",
       "      <th>0</th>\n",
       "      <td>a261b6e14276</td>\n",
       "      <td>D72CB1C11673</td>\n",
       "      <td>Making choices in life can be very difficult. ...</td>\n",
       "      <td>Lead</td>\n",
       "    </tr>\n",
       "    <tr>\n",
       "      <th>1</th>\n",
       "      <td>5a88900e7dc1</td>\n",
       "      <td>D72CB1C11673</td>\n",
       "      <td>Seeking multiple opinions can help a person ma...</td>\n",
       "      <td>Position</td>\n",
       "    </tr>\n",
       "    <tr>\n",
       "      <th>2</th>\n",
       "      <td>9790d835736b</td>\n",
       "      <td>D72CB1C11673</td>\n",
       "      <td>it can decrease stress levels</td>\n",
       "      <td>Claim</td>\n",
       "    </tr>\n",
       "    <tr>\n",
       "      <th>3</th>\n",
       "      <td>75ce6d68b67b</td>\n",
       "      <td>D72CB1C11673</td>\n",
       "      <td>a great chance to learn something new</td>\n",
       "      <td>Claim</td>\n",
       "    </tr>\n",
       "    <tr>\n",
       "      <th>4</th>\n",
       "      <td>93578d946723</td>\n",
       "      <td>D72CB1C11673</td>\n",
       "      <td>can be very helpful and beneficial.</td>\n",
       "      <td>Claim</td>\n",
       "    </tr>\n",
       "  </tbody>\n",
       "</table>\n",
       "</div>"
      ],
      "text/plain": [
       "   discourse_id      essay_id  \\\n",
       "0  a261b6e14276  D72CB1C11673   \n",
       "1  5a88900e7dc1  D72CB1C11673   \n",
       "2  9790d835736b  D72CB1C11673   \n",
       "3  75ce6d68b67b  D72CB1C11673   \n",
       "4  93578d946723  D72CB1C11673   \n",
       "\n",
       "                                      discourse_text discourse_type  \n",
       "0  Making choices in life can be very difficult. ...           Lead  \n",
       "1  Seeking multiple opinions can help a person ma...       Position  \n",
       "2                     it can decrease stress levels           Claim  \n",
       "3             a great chance to learn something new           Claim  \n",
       "4               can be very helpful and beneficial.           Claim  "
      ]
     },
     "execution_count": 24,
     "metadata": {},
     "output_type": "execute_result"
    }
   ],
   "source": [
    "df_test = pd.read_csv('./feedback-prize-effectiveness/test.csv')\n",
    "df_test.head()"
   ]
  },
  {
   "cell_type": "code",
   "execution_count": 25,
   "id": "075f32a5",
   "metadata": {
    "execution": {
     "iopub.execute_input": "2022-06-08T12:03:56.642033Z",
     "iopub.status.busy": "2022-06-08T12:03:56.641624Z",
     "iopub.status.idle": "2022-06-08T12:03:56.660191Z",
     "shell.execute_reply": "2022-06-08T12:03:56.659193Z"
    },
    "papermill": {
     "duration": 0.269611,
     "end_time": "2022-06-08T12:03:56.662436",
     "exception": false,
     "start_time": "2022-06-08T12:03:56.392825",
     "status": "completed"
    },
    "tags": []
   },
   "outputs": [
    {
     "data": {
      "text/html": [
       "<div>\n",
       "<style scoped>\n",
       "    .dataframe tbody tr th:only-of-type {\n",
       "        vertical-align: middle;\n",
       "    }\n",
       "\n",
       "    .dataframe tbody tr th {\n",
       "        vertical-align: top;\n",
       "    }\n",
       "\n",
       "    .dataframe thead th {\n",
       "        text-align: right;\n",
       "    }\n",
       "</style>\n",
       "<table border=\"1\" class=\"dataframe\">\n",
       "  <thead>\n",
       "    <tr style=\"text-align: right;\">\n",
       "      <th></th>\n",
       "      <th>discourse_id</th>\n",
       "      <th>Ineffective</th>\n",
       "      <th>Adequate</th>\n",
       "      <th>Effective</th>\n",
       "    </tr>\n",
       "  </thead>\n",
       "  <tbody>\n",
       "    <tr>\n",
       "      <th>0</th>\n",
       "      <td>a261b6e14276</td>\n",
       "      <td>0.20</td>\n",
       "      <td>0.60</td>\n",
       "      <td>0.40</td>\n",
       "    </tr>\n",
       "    <tr>\n",
       "      <th>1</th>\n",
       "      <td>5a88900e7dc1</td>\n",
       "      <td>3.00</td>\n",
       "      <td>6.00</td>\n",
       "      <td>1.00</td>\n",
       "    </tr>\n",
       "    <tr>\n",
       "      <th>2</th>\n",
       "      <td>9790d835736b</td>\n",
       "      <td>1.00</td>\n",
       "      <td>2.00</td>\n",
       "      <td>3.00</td>\n",
       "    </tr>\n",
       "    <tr>\n",
       "      <th>3</th>\n",
       "      <td>75ce6d68b67b</td>\n",
       "      <td>0.33</td>\n",
       "      <td>0.34</td>\n",
       "      <td>0.33</td>\n",
       "    </tr>\n",
       "    <tr>\n",
       "      <th>4</th>\n",
       "      <td>93578d946723</td>\n",
       "      <td>0.01</td>\n",
       "      <td>0.24</td>\n",
       "      <td>0.47</td>\n",
       "    </tr>\n",
       "  </tbody>\n",
       "</table>\n",
       "</div>"
      ],
      "text/plain": [
       "   discourse_id  Ineffective  Adequate  Effective\n",
       "0  a261b6e14276         0.20      0.60       0.40\n",
       "1  5a88900e7dc1         3.00      6.00       1.00\n",
       "2  9790d835736b         1.00      2.00       3.00\n",
       "3  75ce6d68b67b         0.33      0.34       0.33\n",
       "4  93578d946723         0.01      0.24       0.47"
      ]
     },
     "execution_count": 25,
     "metadata": {},
     "output_type": "execute_result"
    }
   ],
   "source": [
    "pd.read_csv('./feedback-prize-effectiveness/sample_submission.csv').head()"
   ]
  },
  {
   "cell_type": "code",
   "execution_count": 26,
   "id": "0445696e",
   "metadata": {
    "execution": {
     "iopub.execute_input": "2022-06-08T12:03:57.170901Z",
     "iopub.status.busy": "2022-06-08T12:03:57.170502Z",
     "iopub.status.idle": "2022-06-08T12:03:57.194133Z",
     "shell.execute_reply": "2022-06-08T12:03:57.193173Z"
    },
    "papermill": {
     "duration": 0.260529,
     "end_time": "2022-06-08T12:03:57.196663",
     "exception": false,
     "start_time": "2022-06-08T12:03:56.936134",
     "status": "completed"
    },
    "tags": []
   },
   "outputs": [],
   "source": [
    "df_test['input'] = df_test.discourse_type + sep + df_test.discourse_text\n",
    "test_text = bert_encode(df_test.input.astype(str), tokenizer)"
   ]
  },
  {
   "cell_type": "code",
   "execution_count": 27,
   "id": "dd756d64",
   "metadata": {
    "execution": {
     "iopub.execute_input": "2022-06-08T12:03:57.665834Z",
     "iopub.status.busy": "2022-06-08T12:03:57.665457Z",
     "iopub.status.idle": "2022-06-08T12:04:01.191883Z",
     "shell.execute_reply": "2022-06-08T12:04:01.190819Z"
    },
    "papermill": {
     "duration": 3.763599,
     "end_time": "2022-06-08T12:04:01.194093",
     "exception": false,
     "start_time": "2022-06-08T12:03:57.430494",
     "status": "completed"
    },
    "tags": []
   },
   "outputs": [
    {
     "name": "stdout",
     "output_type": "stream",
     "text": [
      "1/1 [==============================] - 4s 4s/step\n"
     ]
    },
    {
     "data": {
      "text/plain": [
       "array([[0.22723724, 0.35880533, 0.41395742],\n",
       "       [0.23421316, 0.5238702 , 0.24191663],\n",
       "       [0.23419538, 0.52406424, 0.24174035],\n",
       "       [0.23421949, 0.5240584 , 0.24172202],\n",
       "       [0.23430978, 0.5240329 , 0.24165729],\n",
       "       [0.22708493, 0.35791674, 0.41499835],\n",
       "       [0.22708498, 0.35791653, 0.41499847],\n",
       "       [0.23422714, 0.52365327, 0.24211961],\n",
       "       [0.23345718, 0.41167215, 0.35487068],\n",
       "       [0.23551625, 0.5022438 , 0.26223996]], dtype=float32)"
      ]
     },
     "execution_count": 27,
     "metadata": {},
     "output_type": "execute_result"
    }
   ],
   "source": [
    "pred = model.predict(test_text, verbose=1)\n",
    "pred"
   ]
  },
  {
   "cell_type": "code",
   "execution_count": 28,
   "id": "109417b4",
   "metadata": {
    "execution": {
     "iopub.execute_input": "2022-06-08T12:04:01.659958Z",
     "iopub.status.busy": "2022-06-08T12:04:01.659569Z",
     "iopub.status.idle": "2022-06-08T12:04:01.672058Z",
     "shell.execute_reply": "2022-06-08T12:04:01.670872Z"
    },
    "papermill": {
     "duration": 0.245387,
     "end_time": "2022-06-08T12:04:01.674804",
     "exception": false,
     "start_time": "2022-06-08T12:04:01.429417",
     "status": "completed"
    },
    "tags": []
   },
   "outputs": [],
   "source": [
    "df_test['Ineffective'] = pred[:,0]\n",
    "df_test['Adequate'] = pred[:,1]\n",
    "df_test['Effective'] = pred[:,2]\n",
    "df_test.drop(['essay_id','discourse_text','discourse_type', 'input'], axis=1, inplace=True)"
   ]
  },
  {
   "cell_type": "code",
   "execution_count": 29,
   "id": "b08eccde",
   "metadata": {
    "execution": {
     "iopub.execute_input": "2022-06-08T12:04:02.141955Z",
     "iopub.status.busy": "2022-06-08T12:04:02.141398Z",
     "iopub.status.idle": "2022-06-08T12:04:02.153746Z",
     "shell.execute_reply": "2022-06-08T12:04:02.152608Z"
    },
    "papermill": {
     "duration": 0.24734,
     "end_time": "2022-06-08T12:04:02.157441",
     "exception": false,
     "start_time": "2022-06-08T12:04:01.910101",
     "status": "completed"
    },
    "tags": []
   },
   "outputs": [
    {
     "data": {
      "text/html": [
       "<div>\n",
       "<style scoped>\n",
       "    .dataframe tbody tr th:only-of-type {\n",
       "        vertical-align: middle;\n",
       "    }\n",
       "\n",
       "    .dataframe tbody tr th {\n",
       "        vertical-align: top;\n",
       "    }\n",
       "\n",
       "    .dataframe thead th {\n",
       "        text-align: right;\n",
       "    }\n",
       "</style>\n",
       "<table border=\"1\" class=\"dataframe\">\n",
       "  <thead>\n",
       "    <tr style=\"text-align: right;\">\n",
       "      <th></th>\n",
       "      <th>discourse_id</th>\n",
       "      <th>Ineffective</th>\n",
       "      <th>Adequate</th>\n",
       "      <th>Effective</th>\n",
       "    </tr>\n",
       "  </thead>\n",
       "  <tbody>\n",
       "    <tr>\n",
       "      <th>0</th>\n",
       "      <td>a261b6e14276</td>\n",
       "      <td>0.227237</td>\n",
       "      <td>0.358805</td>\n",
       "      <td>0.413957</td>\n",
       "    </tr>\n",
       "    <tr>\n",
       "      <th>1</th>\n",
       "      <td>5a88900e7dc1</td>\n",
       "      <td>0.234213</td>\n",
       "      <td>0.523870</td>\n",
       "      <td>0.241917</td>\n",
       "    </tr>\n",
       "    <tr>\n",
       "      <th>2</th>\n",
       "      <td>9790d835736b</td>\n",
       "      <td>0.234195</td>\n",
       "      <td>0.524064</td>\n",
       "      <td>0.241740</td>\n",
       "    </tr>\n",
       "    <tr>\n",
       "      <th>3</th>\n",
       "      <td>75ce6d68b67b</td>\n",
       "      <td>0.234219</td>\n",
       "      <td>0.524058</td>\n",
       "      <td>0.241722</td>\n",
       "    </tr>\n",
       "    <tr>\n",
       "      <th>4</th>\n",
       "      <td>93578d946723</td>\n",
       "      <td>0.234310</td>\n",
       "      <td>0.524033</td>\n",
       "      <td>0.241657</td>\n",
       "    </tr>\n",
       "  </tbody>\n",
       "</table>\n",
       "</div>"
      ],
      "text/plain": [
       "   discourse_id  Ineffective  Adequate  Effective\n",
       "0  a261b6e14276     0.227237  0.358805   0.413957\n",
       "1  5a88900e7dc1     0.234213  0.523870   0.241917\n",
       "2  9790d835736b     0.234195  0.524064   0.241740\n",
       "3  75ce6d68b67b     0.234219  0.524058   0.241722\n",
       "4  93578d946723     0.234310  0.524033   0.241657"
      ]
     },
     "execution_count": 29,
     "metadata": {},
     "output_type": "execute_result"
    }
   ],
   "source": [
    "df_test.head()"
   ]
  },
  {
   "cell_type": "code",
   "execution_count": 30,
   "id": "3327ac43",
   "metadata": {
    "execution": {
     "iopub.execute_input": "2022-06-08T12:04:02.675132Z",
     "iopub.status.busy": "2022-06-08T12:04:02.674724Z",
     "iopub.status.idle": "2022-06-08T12:04:02.683675Z",
     "shell.execute_reply": "2022-06-08T12:04:02.682642Z"
    },
    "papermill": {
     "duration": 0.246998,
     "end_time": "2022-06-08T12:04:02.685966",
     "exception": false,
     "start_time": "2022-06-08T12:04:02.438968",
     "status": "completed"
    },
    "tags": []
   },
   "outputs": [],
   "source": [
    "df_test.to_csv(\"submission.csv\", index=False)"
   ]
  }
 ],
 "metadata": {
  "kernelspec": {
   "display_name": "Python 3.9.12 ('base')",
   "language": "python",
   "name": "python3"
  },
  "language_info": {
   "codemirror_mode": {
    "name": "ipython",
    "version": 3
   },
   "file_extension": ".py",
   "mimetype": "text/x-python",
   "name": "python",
   "nbconvert_exporter": "python",
   "pygments_lexer": "ipython3",
   "version": "3.9.12"
  },
  "papermill": {
   "default_parameters": {},
   "duration": 2337.771039,
   "end_time": "2022-06-08T12:04:06.597549",
   "environment_variables": {},
   "exception": null,
   "input_path": "__notebook__.ipynb",
   "output_path": "__notebook__.ipynb",
   "parameters": {},
   "start_time": "2022-06-08T11:25:08.826510",
   "version": "2.3.4"
  },
  "vscode": {
   "interpreter": {
    "hash": "437a4b58f269e6e7b32a6d55bbcbeee7fac7b1a936f84ed54bdc3e1d181a9290"
   }
  }
 },
 "nbformat": 4,
 "nbformat_minor": 5
}
